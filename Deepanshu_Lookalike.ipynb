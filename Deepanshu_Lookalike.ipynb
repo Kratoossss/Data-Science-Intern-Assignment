{
 "cells": [
  {
   "cell_type": "code",
   "execution_count": 1,
   "id": "af989307-72a5-4933-8c8b-d980a6630ba7",
   "metadata": {},
   "outputs": [],
   "source": [
    "import pandas as pd\n",
    "import numpy as np\n",
    "import matplotlib.pyplot as plt\n",
    "import seaborn as sns \n",
    "from sklearn.metrics.pairwise import cosine_similarity"
   ]
  },
  {
   "cell_type": "code",
   "execution_count": 2,
   "id": "9cc6acd3-0019-456e-afbc-356dcfb5912e",
   "metadata": {},
   "outputs": [],
   "source": [
    "# Load the datasets\n",
    "customers = pd.read_csv(\"C:/Users/deepa/Downloads/Customers.csv\")\n",
    "products = pd.read_csv(\"C:/Users/deepa/Downloads/Products.csv\")\n",
    "transactions = pd.read_csv(\"C:/Users/deepa/Downloads/Transactions.csv\")"
   ]
  },
  {
   "cell_type": "code",
   "execution_count": 20,
   "id": "9106eb2a-802f-49ce-92db-cf2a57f62e49",
   "metadata": {},
   "outputs": [
    {
     "name": "stdout",
     "output_type": "stream",
     "text": [
      "Transactions columns after calculating 'Price': Index(['TransactionID', 'CustomerID', 'ProductID', 'TransactionDate',\n",
      "       'Quantity', 'TotalValue', 'Price'],\n",
      "      dtype='object')\n",
      "Columns in merged_data: Index(['TransactionID', 'CustomerID', 'ProductID', 'TransactionDate',\n",
      "       'Quantity', 'TotalValue', 'TransactionPrice', 'CustomerName', 'Region',\n",
      "       'SignupDate', 'ProductName', 'Category', 'ProductPrice'],\n",
      "      dtype='object')\n",
      "Customer features after aggregation:             TotalSpent  TotalQuantity    AvgPrice  TransactionCount\n",
      "CustomerID                                                         \n",
      "C0001          3354.52             12  278.334000                 5\n",
      "C0002          1862.74             10  208.920000                 4\n",
      "C0003          2725.38             14  195.707500                 4\n",
      "C0004          5354.88             23  240.636250                 8\n",
      "C0005          2034.24              7  291.603333                 3\n"
     ]
    }
   ],
   "source": [
    "# Preprocessing data\n",
    "def preprocess_data():\n",
    "    # Convert date columns to datetime\n",
    "    customers['SignupDate'] = pd.to_datetime(customers['SignupDate'])\n",
    "    transactions['TransactionDate'] = pd.to_datetime(transactions['TransactionDate'])\n",
    "\n",
    "    # Ensure 'Price' is calculated\n",
    "    if 'Price' not in transactions.columns:\n",
    "        print(\"Calculating 'Price' column...\")\n",
    "        # Replace zero or missing Quantity with a small constant to avoid division errors\n",
    "        transactions['Quantity'] = transactions['Quantity'].replace(0, np.nan)\n",
    "        transactions['Price'] = transactions['TotalValue'] / transactions['Quantity']\n",
    "        transactions['Price'] = transactions['Price'].fillna(0)  # Handle any NaN values\n",
    "\n",
    "    # Debugging: Check if 'Price' column exists in transactions\n",
    "    print(\"Transactions columns after calculating 'Price':\", transactions.columns)\n",
    "\n",
    "    # Merge datasets\n",
    "    merged_data = transactions.merge(customers, on=\"CustomerID\").merge(products, on=\"ProductID\")\n",
    "\n",
    "    # Rename Price_x for clarity\n",
    "    merged_data = merged_data.rename(columns={'Price_x': 'TransactionPrice', 'Price_y': 'ProductPrice'})\n",
    "\n",
    "    # Debugging: Check the columns in merged_data\n",
    "    print(\"Columns in merged_data:\", merged_data.columns)\n",
    "\n",
    "    # Aggregate customer-level data\n",
    "    customer_features = merged_data.groupby('CustomerID').agg({\n",
    "        'TotalValue': 'sum',            # Total spending by the customer\n",
    "        'Quantity': 'sum',              # Total quantity purchased\n",
    "        'TransactionPrice': 'mean',     # Average transaction price\n",
    "        'TransactionID': 'count'        # Number of transactions\n",
    "    }).rename(columns={\n",
    "        'TotalValue': 'TotalSpent',\n",
    "        'Quantity': 'TotalQuantity',\n",
    "        'TransactionPrice': 'AvgPrice',\n",
    "        'TransactionID': 'TransactionCount'\n",
    "    })\n",
    "\n",
    "    # Debugging: Check the first few rows of customer_features\n",
    "    print(\"Customer features after aggregation:\", customer_features.head())\n",
    "\n",
    "    # Add profile features\n",
    "    customer_features = customer_features.merge(customers.set_index('CustomerID'), on='CustomerID')\n",
    "\n",
    "    # Encode categorical data (Region)\n",
    "    customer_features = pd.get_dummies(customer_features, columns=['Region'], drop_first=True)\n",
    "    \n",
    "    return customer_features\n",
    "customer_features = preprocess_data()"
   ]
  },
  {
   "cell_type": "code",
   "execution_count": 4,
   "id": "7afa2fe8-e131-442b-84d1-cd89c546b080",
   "metadata": {},
   "outputs": [],
   "source": [
    "# Calculate similarity matrix\n",
    "def calculate_similarity(features):\n",
    "    feature_matrix = features.drop(['CustomerName', 'SignupDate'], axis=1)\n",
    "    similarity_matrix = cosine_similarity(feature_matrix)\n",
    "    similarity_df = pd.DataFrame(similarity_matrix, index=features.index, columns=features.index)\n",
    "    return similarity_df\n",
    "\n",
    "similarity_df = calculate_similarity(customer_features)"
   ]
  },
  {
   "cell_type": "code",
   "execution_count": 5,
   "id": "971f2200-858d-4530-93ac-b17ddfd5154c",
   "metadata": {},
   "outputs": [],
   "source": [
    "# Generate recommendations for the first 20 customers\n",
    "def generate_recommendations(similarity_df, top_n=3):\n",
    "    recommendations = {}\n",
    "    for customer_id in similarity_df.index[:20]:\n",
    "        similar_customers = similarity_df.loc[customer_id].sort_values(ascending=False)[1:top_n+1]\n",
    "        recommendations[customer_id] = list(zip(similar_customers.index, similar_customers.values))\n",
    "    return recommendations\n",
    "\n",
    "recommendations = generate_recommendations(similarity_df)"
   ]
  },
  {
   "cell_type": "code",
   "execution_count": 6,
   "id": "094c4e15-ec11-4809-8db0-645b706a74f2",
   "metadata": {},
   "outputs": [],
   "source": [
    "# Save recommendations to CSV\n",
    "recommendations_list = []\n",
    "for cust_id, recs in recommendations.items():\n",
    "    for rec in recs:\n",
    "        recommendations_list.append({\n",
    "            'CustomerID': cust_id,\n",
    "            'SimilarCustomerID': rec[0],\n",
    "            'SimilarityScore': rec[1]\n",
    "        })\n",
    "\n",
    "recommendations_df = pd.DataFrame(recommendations_list)\n",
    "recommendations_df.to_csv(\"C:/Users/deepa/Downloads/Data Science Assignment - eCommerce Transactions Dataset/Deepanshu_Lookalike\", index=False)"
   ]
  },
  {
   "cell_type": "code",
   "execution_count": 13,
   "id": "e258470a-be57-4d5c-9063-f474e654f7df",
   "metadata": {},
   "outputs": [
    {
     "name": "stdout",
     "output_type": "stream",
     "text": [
      "Lookalike recommendations for the first 20 customers.\n",
      "\n",
      "CustomerID: C0001\n",
      "    Lookalike: C0024, Similarity Score: 1.0000\n",
      "    Lookalike: C0189, Similarity Score: 1.0000\n",
      "    Lookalike: C0107, Similarity Score: 1.0000\n",
      "CustomerID: C0002\n",
      "    Lookalike: C0129, Similarity Score: 1.0000\n",
      "    Lookalike: C0019, Similarity Score: 1.0000\n",
      "    Lookalike: C0076, Similarity Score: 1.0000\n",
      "CustomerID: C0003\n",
      "    Lookalike: C0179, Similarity Score: 1.0000\n",
      "    Lookalike: C0190, Similarity Score: 1.0000\n",
      "    Lookalike: C0064, Similarity Score: 1.0000\n",
      "CustomerID: C0004\n",
      "    Lookalike: C0045, Similarity Score: 1.0000\n",
      "    Lookalike: C0143, Similarity Score: 1.0000\n",
      "    Lookalike: C0113, Similarity Score: 1.0000\n",
      "CustomerID: C0005\n",
      "    Lookalike: C0132, Similarity Score: 1.0000\n",
      "    Lookalike: C0089, Similarity Score: 1.0000\n",
      "    Lookalike: C0192, Similarity Score: 1.0000\n",
      "CustomerID: C0006\n",
      "    Lookalike: C0152, Similarity Score: 1.0000\n",
      "    Lookalike: C0011, Similarity Score: 1.0000\n",
      "    Lookalike: C0168, Similarity Score: 1.0000\n",
      "CustomerID: C0007\n",
      "    Lookalike: C0085, Similarity Score: 1.0000\n",
      "    Lookalike: C0061, Similarity Score: 1.0000\n",
      "    Lookalike: C0192, Similarity Score: 1.0000\n",
      "CustomerID: C0008\n",
      "    Lookalike: C0162, Similarity Score: 1.0000\n",
      "    Lookalike: C0108, Similarity Score: 1.0000\n",
      "    Lookalike: C0105, Similarity Score: 1.0000\n",
      "CustomerID: C0009\n",
      "    Lookalike: C0080, Similarity Score: 1.0000\n",
      "    Lookalike: C0020, Similarity Score: 1.0000\n",
      "    Lookalike: C0015, Similarity Score: 0.9997\n",
      "CustomerID: C0010\n",
      "    Lookalike: C0047, Similarity Score: 1.0000\n",
      "    Lookalike: C0030, Similarity Score: 1.0000\n",
      "    Lookalike: C0027, Similarity Score: 1.0000\n",
      "CustomerID: C0011\n",
      "    Lookalike: C0152, Similarity Score: 1.0000\n",
      "    Lookalike: C0006, Similarity Score: 1.0000\n",
      "    Lookalike: C0183, Similarity Score: 1.0000\n",
      "CustomerID: C0012\n",
      "    Lookalike: C0093, Similarity Score: 1.0000\n",
      "    Lookalike: C0046, Similarity Score: 1.0000\n",
      "    Lookalike: C0039, Similarity Score: 1.0000\n",
      "CustomerID: C0013\n",
      "    Lookalike: C0108, Similarity Score: 1.0000\n",
      "    Lookalike: C0105, Similarity Score: 1.0000\n",
      "    Lookalike: C0018, Similarity Score: 1.0000\n",
      "CustomerID: C0014\n",
      "    Lookalike: C0150, Similarity Score: 1.0000\n",
      "    Lookalike: C0130, Similarity Score: 1.0000\n",
      "    Lookalike: C0078, Similarity Score: 1.0000\n",
      "CustomerID: C0015\n",
      "    Lookalike: C0083, Similarity Score: 1.0000\n",
      "    Lookalike: C0020, Similarity Score: 0.9997\n",
      "    Lookalike: C0080, Similarity Score: 0.9997\n",
      "CustomerID: C0016\n",
      "    Lookalike: C0040, Similarity Score: 1.0000\n",
      "    Lookalike: C0158, Similarity Score: 1.0000\n",
      "    Lookalike: C0092, Similarity Score: 1.0000\n",
      "CustomerID: C0017\n",
      "    Lookalike: C0136, Similarity Score: 1.0000\n",
      "    Lookalike: C0053, Similarity Score: 1.0000\n",
      "    Lookalike: C0102, Similarity Score: 1.0000\n",
      "CustomerID: C0018\n",
      "    Lookalike: C0108, Similarity Score: 1.0000\n",
      "    Lookalike: C0162, Similarity Score: 1.0000\n",
      "    Lookalike: C0105, Similarity Score: 1.0000\n",
      "CustomerID: C0019\n",
      "    Lookalike: C0088, Similarity Score: 1.0000\n",
      "    Lookalike: C0002, Similarity Score: 1.0000\n",
      "    Lookalike: C0116, Similarity Score: 1.0000\n",
      "CustomerID: C0020\n",
      "    Lookalike: C0080, Similarity Score: 1.0000\n",
      "    Lookalike: C0009, Similarity Score: 1.0000\n",
      "    Lookalike: C0015, Similarity Score: 0.9997\n"
     ]
    }
   ],
   "source": [
    "# Insights from Task 2\n",
    "print(\"Lookalike recommendations for the first 20 customers.\\n\")\n",
    "for customer_id, recs in recommendations.items():\n",
    "    print(f\"CustomerID: {customer_id}\")\n",
    "    for rec in recs:\n",
    "        print(f\"    Lookalike: {rec[0]}, Similarity Score: {rec[1]:.4f}\")"
   ]
  },
  {
   "cell_type": "code",
   "execution_count": 15,
   "id": "cc143d10-d319-4945-9e6a-911793a7a83c",
   "metadata": {},
   "outputs": [],
   "source": [
    "# Summary Insights\n",
    "summary_insights = [\n",
    "    \"1. The similarity model effectively identifies customers with overlapping purchase behavior and profiles.\",\n",
    "    \"2. Customers in similar regions or with comparable purchasing trends often appear as close matches.\",\n",
    "    \"3. Re-engagement campaigns can be tailored for similar customers to boost sales.\"\n",
    "]"
   ]
  },
  {
   "cell_type": "code",
   "execution_count": 17,
   "id": "25260d32-ac6e-445a-96dc-bfa0e2c53467",
   "metadata": {},
   "outputs": [
    {
     "name": "stdout",
     "output_type": "stream",
     "text": [
      "Insight 1: 1. The similarity model effectively identifies customers with overlapping purchase behavior and profiles.\n",
      "Insight 2: 2. Customers in similar regions or with comparable purchasing trends often appear as close matches.\n",
      "Insight 3: 3. Re-engagement campaigns can be tailored for similar customers to boost sales.\n"
     ]
    }
   ],
   "source": [
    "for i, insight in enumerate(summary_insights, 1):\n",
    "    print(f\"Insight {i}: {insight}\")"
   ]
  }
 ],
 "metadata": {
  "kernelspec": {
   "display_name": "Python 3 (ipykernel)",
   "language": "python",
   "name": "python3"
  },
  "language_info": {
   "codemirror_mode": {
    "name": "ipython",
    "version": 3
   },
   "file_extension": ".py",
   "mimetype": "text/x-python",
   "name": "python",
   "nbconvert_exporter": "python",
   "pygments_lexer": "ipython3",
   "version": "3.12.4"
  }
 },
 "nbformat": 4,
 "nbformat_minor": 5
}
